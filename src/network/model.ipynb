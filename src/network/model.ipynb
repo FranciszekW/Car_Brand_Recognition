{
 "cells": [
  {
   "cell_type": "code",
   "id": "initial_id",
   "metadata": {
    "jupyter": {
     "is_executing": true
    }
   },
   "source": [
    "# noinspection PyUnresolvedReferences\n",
    "import torch\n",
    "# noinspection PyUnresolvedReferences\n",
    "import torch.nn as nn\n",
    "# noinspection PyUnresolvedReferences\n",
    "import torch.optim as optim\n",
    "# noinspection PyUnresolvedReferences\n",
    "from torch.utils.data import Dataset, DataLoader\n",
    "# noinspection PyUnresolvedReferences\n",
    "import torchvision.transforms.v2 as transforms\n",
    "# noinspection PyUnresolvedReferences\n",
    "import torchvision.io as tv_io\n",
    "# noinspection PyUnresolvedReferences\n",
    "import glob\n",
    "# noinspection PyUnresolvedReferences\n",
    "import json\n",
    "# noinspection PyUnresolvedReferences\n",
    "from PIL import Image\n",
    "# noinspection PyUnresolvedReferences\n",
    "# noinspection PyUnresolvedReferences\n",
    "from torchvision.models import efficientnet_b0\n",
    "# noinspection PyUnresolvedReferences\n",
    "from torchvision.models import EfficientNet_B0_Weights\n",
    "\n",
    "import train_utils"
   ],
   "outputs": [],
   "execution_count": null
  },
  {
   "metadata": {},
   "cell_type": "markdown",
   "source": "",
   "id": "da8ed1162db70bf"
  },
  {
   "cell_type": "code",
   "id": "82b7155bda572005",
   "metadata": {
    "scrolled": true
   },
   "source": [
    "device = torch.device(\"cuda\" if torch.cuda.is_available() else \"cpu\")\n",
    "torch.cuda.is_available()"
   ],
   "outputs": [],
   "execution_count": null
  },
  {
   "cell_type": "code",
   "id": "c11afe1dc17ba0f4",
   "metadata": {
    "scrolled": true
   },
   "source": [
    "pretrained_weights = EfficientNet_B0_Weights.DEFAULT\n",
    "base_model = efficientnet_b0(weights=pretrained_weights)\n",
    "base_model.to(device)"
   ],
   "outputs": [],
   "execution_count": null
  },
  {
   "cell_type": "code",
   "id": "1d714e4067d6dcb9",
   "metadata": {},
   "source": [
    "# Transforms, which had been used when training the model\n",
    "pre_transforms = pretrained_weights.transforms()\n",
    "# pre_transforms"
   ],
   "outputs": [],
   "execution_count": null
  },
  {
   "cell_type": "code",
   "id": "e4f9d58b98b8fbf0",
   "metadata": {},
   "source": [
    "num_classes = train_utils.count_folders(\"../stanford/data/train\")\n",
    "print(f'Number of different car brands: {num_classes}')\n",
    "\n",
    "# adaptation for our task\n",
    "base_model.classifier[0] = nn.Dropout(p=0.91, inplace=True)\n",
    "base_model.classifier[1] = nn.Linear(1280, num_classes)\n",
    "model = base_model\n",
    "\n",
    "# model = nn.Sequential(\n",
    "#     # base_model.features,\n",
    "#     # base_model.avgpool,\n",
    "#     # nn.Flatten(),\n",
    "#     # base_model.classifier[0:3],\n",
    "#     # nn.Linear(4096, 1024),\n",
    "#     # nn.ReLU(),\n",
    "#     # nn.Dropout(.5),\n",
    "#     # nn.Linear(1024, 512),\n",
    "#     # nn.ReLU(),\n",
    "#     base_model,\n",
    "#     nn.SiLU(inplace=True),\n",
    "#     nn.Dropout(.2, inplace=True),\n",
    "#     nn.Linear(1000, 512),\n",
    "#     nn.SiLU(inplace=True),\n",
    "#     nn.Dropout(.2, inplace=True),\n",
    "#     nn.Linear(512, N_CLASSES)\n",
    "# )\n",
    "\n",
    "for idx, param in enumerate(model.parameters()):\n",
    "    # The model will not be fine-tuned, experience showed that it's not beneficial\n",
    "    assert param.requires_grad"
   ],
   "outputs": [],
   "execution_count": null
  },
  {
   "cell_type": "code",
   "id": "75fee18ce256e7d1",
   "metadata": {},
   "source": [
    "# All the car brands available in the dataset. Maybe someday the model will be trained on all of them...\n",
    "# labels = [\n",
    "#     \"Acura\", \"Alfa_Romeo\", \"Aston_Martin\", \"Audi\", \"Bentley\",\n",
    "#     \"BMW\", \"Bugatti\", \"Buick\", \"Caterham\", \"Chevrolet\",\n",
    "#     \"Chrysler\", \"Citroen\", \"Dacia\", \"Dodge\", \"Ferrari\",\n",
    "#     \"Fiat\", \"Ford\", \"GMC\", \"Honda\", \"Hyundai\",\n",
    "#     \"Infiniti\", \"Isuzu\", \"Jaguar\", \"Kia\", \"Koenigsegg\",\n",
    "#     \"Lamborghini\", \"Land_Rover\", \"Lexus\", \"Lotus\", \"Maserati\",\n",
    "#     \"Mazda\", \"McLaren\", \"Mercedes-Benz\", \"Mini\", \"Mitsubishi\",\n",
    "#     \"Morgan\", \"Nissan\", \"Opel\", \"Pagani\", \"Peugeot\",\n",
    "#     \"Porsche\", \"Renault\", \"Rolls_Royce\", \"Saab\", \"Seat\",\n",
    "#     \"Skoda\", \"Smart\", \"Subaru\", \"Suzuki\", \"Tata\",\n",
    "#     \"Tesla\", \"Toyota\", \"Volkswagen\", \"Volvo\"\n",
    "# ]\n",
    "\n",
    "# But for now, let's stick to those\n",
    "labels = [\"Audi\", \"BMW\", \"Chevrolet\", \"Fiat\", \"Honda\", \"Mazda\", \"Mercedes-Benz\", \"Toyota\",\n",
    "               \"Volvo\"]\n",
    "\n",
    "assert num_classes == len(labels)"
   ],
   "outputs": [],
   "execution_count": null
  },
  {
   "cell_type": "code",
   "id": "d366e072910b6496",
   "metadata": {},
   "source": [
    "batch_size = 64\n",
    "\n",
    "train_path = \"../stanford/data/train/\"\n",
    "train_dataset = train_utils.DatasetFromFolders(train_path, labels, device, pre_transforms)\n",
    "train_loader = DataLoader(train_dataset, batch_size=batch_size, shuffle=True)\n",
    "train_N = len(train_loader.dataset)\n",
    "\n",
    "valid_path = \"../stanford/data/valid/\"\n",
    "valid_dataset = train_utils.DatasetFromFolders(valid_path, labels, device, pre_transforms)\n",
    "valid_loader = DataLoader(valid_dataset, batch_size=batch_size, shuffle=False)\n",
    "valid_N = len(valid_loader.dataset)"
   ],
   "outputs": [],
   "execution_count": null
  },
  {
   "cell_type": "code",
   "id": "a5dc9840661b7713",
   "metadata": {},
   "source": [
    "loss_function = nn.CrossEntropyLoss()\n",
    "\n",
    "# default value is lr=0.001\n",
    "optimizer = optim.Adam(model.parameters(), lr=0.0004)\n",
    "# optimizer = torch.optim.SGD(\n",
    "#     model.parameters(),\n",
    "#     lr=0.001,        # Learning rate (start with something small, like 0.001 or 0.01)\n",
    "#     momentum=0.9,    # Momentum (usually set to 0.9 or 0.8)\n",
    "#     weight_decay=1e-4  # Optional L2 regularization (weight decay)\n",
    "# )\n",
    "\n",
    "lr_scheduler = optim.lr_scheduler.ReduceLROnPlateau(optimizer, factor=0.4, patience=0, min_lr=1e-6)\n",
    "\n",
    "# DO NOT COMPILE ON OLDER GRAPHIC CARDS!\n",
    "# my_model = torch.compile(model.to(device))\n",
    "\n",
    "# Instead, simply send it to the GPU\n",
    "model = model.to(device)"
   ],
   "outputs": [],
   "execution_count": null
  },
  {
   "cell_type": "code",
   "id": "6ec5854e0257b04b",
   "metadata": {},
   "source": [
    "IMG_WIDTH, IMG_HEIGHT = (224, 224)\n",
    "\n",
    "# Small data augmentation to improve model generalization\n",
    "data_augment = transforms.Compose([\n",
    "    transforms.RandomRotation(5),\n",
    "    transforms.RandomResizedCrop((IMG_WIDTH, IMG_HEIGHT), scale=(.65, 1), ratio=(1, 1)),\n",
    "    transforms.RandomHorizontalFlip(),\n",
    "    # transforms.ColorJitter(hue=.02)#brightness=.05, contrast=.05, saturation=.05,hue=.05)\n",
    "])"
   ],
   "outputs": [],
   "execution_count": null
  },
  {
   "cell_type": "code",
   "id": "d7b8f381-bd8e-49a8-ab36-cbb70d238090",
   "metadata": {
    "scrolled": true
   },
   "source": [
    "# And now the training!\n",
    "num_epochs = 15\n",
    "\n",
    "train_utils.train_and_valid(model, train_loader, valid_loader,\n",
    "                      data_augment, optimizer, lr_scheduler, loss_function, num_epochs)"
   ],
   "outputs": [],
   "execution_count": null
  },
  {
   "cell_type": "code",
   "id": "f50099072cf4a9ce",
   "metadata": {},
   "source": "train_utils.model_prediction(model, labels, \"../test/test3.jpg\", device, pre_transforms)",
   "outputs": [],
   "execution_count": null
  }
 ],
 "metadata": {
  "kernelspec": {
   "display_name": "Python 3 (ipykernel)",
   "language": "python",
   "name": "python3"
  },
  "language_info": {
   "codemirror_mode": {
    "name": "ipython",
    "version": 3
   },
   "file_extension": ".py",
   "mimetype": "text/x-python",
   "name": "python",
   "nbconvert_exporter": "python",
   "pygments_lexer": "ipython3",
   "version": "3.12.3"
  }
 },
 "nbformat": 4,
 "nbformat_minor": 5
}
